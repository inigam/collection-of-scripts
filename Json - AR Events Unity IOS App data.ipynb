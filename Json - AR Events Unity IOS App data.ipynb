{
 "cells": [
  {
   "cell_type": "code",
   "execution_count": 1,
   "metadata": {
    "collapsed": false
   },
   "outputs": [],
   "source": [
    "import json\n",
    "from pandas.io.json import json_normalize\n",
    "import pandas as pd\n",
    "import os\n",
    "os.chdir('/Users/ikshitnigam/Documents/EY Seren/Box Sync/BP-AR App/Jsondata')"
   ]
  },
  {
   "cell_type": "code",
   "execution_count": 8,
   "metadata": {
    "collapsed": false
   },
   "outputs": [
    {
     "name": "stdout",
     "output_type": "stream",
     "text": [
      "['part-3.json', 'part-2.json', 'part-5.json', 'part-4.json', 'part-6.json', 'part-1.json']\n"
     ]
    }
   ],
   "source": [
    "json_files = [pos_json for pos_json in os.listdir() if pos_json.endswith('.json')]\n",
    "print(json_files)"
   ]
  },
  {
   "cell_type": "code",
   "execution_count": 15,
   "metadata": {
    "collapsed": false
   },
   "outputs": [],
   "source": [
    "with open(\"part-1.json\") as json_file:\n",
    "    json_data = json.load(json_file)\n",
    "    df1 = pd.DataFrame.from_dict(json_normalize(json_data), orient='columns')\n",
    "\n",
    "    \n",
    "with open(\"part-2.json\") as json_file:\n",
    "    json_data = json.load(json_file)\n",
    "    df2 = pd.DataFrame.from_dict(json_normalize(json_data), orient='columns')\n",
    "    \n",
    "with open(\"part-3.json\") as json_file:\n",
    "    json_data = json.load(json_file)\n",
    "    df3 = pd.DataFrame.from_dict(json_normalize(json_data), orient='columns')\n",
    "\n",
    "with open(\"part-4.json\") as json_file:\n",
    "    json_data = json.load(json_file)\n",
    "    df4 = pd.DataFrame.from_dict(json_normalize(json_data), orient='columns')\n",
    "\n",
    "    \n",
    "with open(\"part-5.json\") as json_file:\n",
    "    json_data = json.load(json_file)\n",
    "    df5 = pd.DataFrame.from_dict(json_normalize(json_data), orient='columns')\n",
    "\n",
    "    \n",
    "with open(\"part-6.json\") as json_file:\n",
    "    json_data = json.load(json_file)\n",
    "    df6 = pd.DataFrame.from_dict(json_normalize(json_data), orient='columns')\n",
    "\n",
    "    "
   ]
  },
  {
   "cell_type": "code",
   "execution_count": 16,
   "metadata": {
    "collapsed": true
   },
   "outputs": [],
   "source": [
    "df1.to_csv('data-1.csv', index=None)\n",
    "df2.to_csv('data-2.csv', index=None)\n",
    "df3.to_csv('data-3.csv', index=None)\n",
    "df4.to_csv('data-4.csv', index=None)\n",
    "df5.to_csv('data-5.csv', index=None)\n",
    "df6.to_csv('data-6.csv', index=None)"
   ]
  },
  {
   "cell_type": "code",
   "execution_count": 19,
   "metadata": {
    "collapsed": true
   },
   "outputs": [],
   "source": [
    "df1 = df1.append(df2)\n",
    "df1 = df1.append(df3)\n",
    "df1 = df1.append(df4)\n",
    "df1 = df1.append(df5)\n",
    "df1 = df1.append(df6)\n",
    "\n",
    "\n",
    "df1.to_csv('full.csv', index=None)"
   ]
  },
  {
   "cell_type": "code",
   "execution_count": 20,
   "metadata": {
    "collapsed": false
   },
   "outputs": [
    {
     "data": {
      "text/plain": [
       "7775"
      ]
     },
     "execution_count": 20,
     "metadata": {},
     "output_type": "execute_result"
    }
   ],
   "source": [
    "len(df1)"
   ]
  },
  {
   "cell_type": "code",
   "execution_count": null,
   "metadata": {
    "collapsed": true
   },
   "outputs": [],
   "source": []
  }
 ],
 "metadata": {
  "kernelspec": {
   "display_name": "Python 3",
   "language": "python",
   "name": "python3"
  },
  "language_info": {
   "codemirror_mode": {
    "name": "ipython",
    "version": 3
   },
   "file_extension": ".py",
   "mimetype": "text/x-python",
   "name": "python",
   "nbconvert_exporter": "python",
   "pygments_lexer": "ipython3",
   "version": "3.6.0"
  }
 },
 "nbformat": 4,
 "nbformat_minor": 2
}
